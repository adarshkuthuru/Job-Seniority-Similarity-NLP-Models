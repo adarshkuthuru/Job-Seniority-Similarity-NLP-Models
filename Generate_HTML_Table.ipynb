{
  "cells": [
    {
      "cell_type": "code",
      "execution_count": null,
      "id": "6ca19f1c-64bc-4d85-a1a4-d0444c8efce7",
      "metadata": {
        "id": "6ca19f1c-64bc-4d85-a1a4-d0444c8efce7"
      },
      "outputs": [],
      "source": [
        "# !pip install -U -q PyDrive\n",
        "# !pip install google-colab\n",
        "\n",
        "# !pip install flask-ngrok\n",
        "# !pip install flask==0.12.2  # Newer versions of flask don't work in Colab\n",
        "# See https://github.com/plotly/dash/issues/257\n",
        "\n",
        "import pandas as pd\n",
        "\n",
        "#to import files from google drive\n",
        "from pydrive.auth import GoogleAuth \n",
        "from pydrive.drive import GoogleDrive\n",
        "from google.colab import auth \n",
        "from oauth2client.client import GoogleCredentials\n",
        "from google.colab import drive\n",
        "\n",
        "from flask import Flask\n",
        "from flask_ngrok import run_with_ngrok"
      ]
    },
    {
      "cell_type": "code",
      "source": [
        "app = Flask(__name__)\n",
        "run_with_ngrok(app)  # Start ngrok when app is run\n",
        "\n",
        "@app.route(\"/\")\n",
        "def hello():\n",
        "    return \"Hello World!\"\n",
        "\n",
        "if __name__ == '__main__':\n",
        "    app.run()  # If address is in use, may need to terminate other sessions:\n",
        "               # Runtime > Manage Sessions > Terminate Other Sessions"
      ],
      "metadata": {
        "id": "u66J0WLVHnMe",
        "outputId": "84eb070c-4b2e-4a11-dd34-c1817d692e92",
        "colab": {
          "base_uri": "https://localhost:8080/"
        }
      },
      "id": "u66J0WLVHnMe",
      "execution_count": null,
      "outputs": [
        {
          "output_type": "stream",
          "name": "stderr",
          "text": [
            " * Running on http://127.0.0.1:5000/ (Press CTRL+C to quit)\n"
          ]
        },
        {
          "output_type": "stream",
          "name": "stdout",
          "text": [
            " * Running on http://1571-34-150-201-255.ngrok.io\n",
            " * Traffic stats available on http://127.0.0.1:4040\n"
          ]
        }
      ]
    },
    {
      "cell_type": "code",
      "execution_count": null,
      "id": "f572fed6-388a-44cd-825e-b81bc13a264f",
      "metadata": {
        "id": "f572fed6-388a-44cd-825e-b81bc13a264f",
        "colab": {
          "base_uri": "https://localhost:8080/"
        },
        "outputId": "d4840abf-1470-401c-90ff-3ed375ef2178"
      },
      "outputs": [
        {
          "output_type": "stream",
          "name": "stdout",
          "text": [
            "Mounted at /content/gdrive\n"
          ]
        }
      ],
      "source": [
        "# 1. Authorize Google Drive (required only for the first time, then comment it)\n",
        "# drive.mount('/content/gdrive', force_remount=True)\n",
        "\n",
        "df = pd.read_csv(\"/content/gdrive/My Drive/Colab Notebooks/Healthcare_Support_Occupations.csv\")"
      ]
    },
    {
      "cell_type": "code",
      "source": [
        "df.shape"
      ],
      "metadata": {
        "colab": {
          "base_uri": "https://localhost:8080/"
        },
        "id": "7JjwUhRd4Pi6",
        "outputId": "6ebe1252-488c-4c5a-80af-10025218623e"
      },
      "id": "7JjwUhRd4Pi6",
      "execution_count": null,
      "outputs": [
        {
          "output_type": "execute_result",
          "data": {
            "text/plain": [
              "(636, 11)"
            ]
          },
          "metadata": {},
          "execution_count": 82
        }
      ]
    },
    {
      "cell_type": "code",
      "execution_count": null,
      "id": "d00fe2c1-c37d-4f59-8df4-d0ba750aa920",
      "metadata": {
        "colab": {
          "base_uri": "https://localhost:8080/"
        },
        "id": "d00fe2c1-c37d-4f59-8df4-d0ba750aa920",
        "outputId": "fcee9123-9357-4c57-8c0b-abae94c2e15f"
      },
      "outputs": [
        {
          "output_type": "execute_result",
          "data": {
            "text/plain": [
              "Index(['ClassSpecID', 'EmployerID', 'Class_Title', 'Class_Concept',\n",
              "       'ExamplesOfDuties', 'MinimumQualifications', 'SupplementalInfo',\n",
              "       'BLS_Major', 'BLS_Minor', 'BLS_Broad', 'BLS_Detailed'],\n",
              "      dtype='object')"
            ]
          },
          "metadata": {},
          "execution_count": 83
        }
      ],
      "source": [
        "df.columns"
      ]
    },
    {
      "cell_type": "code",
      "execution_count": null,
      "id": "bfd48e73-ae84-4aa1-b323-403c1506b45c",
      "metadata": {
        "id": "bfd48e73-ae84-4aa1-b323-403c1506b45c"
      },
      "outputs": [],
      "source": [
        "df.fillna('', inplace=True)"
      ]
    },
    {
      "cell_type": "code",
      "execution_count": null,
      "id": "0e17f65f-2fe4-4afd-bb53-3914699f1628",
      "metadata": {
        "id": "0e17f65f-2fe4-4afd-bb53-3914699f1628"
      },
      "outputs": [],
      "source": [
        "df['New_JD'] = df['Class_Concept'] + \"<br><br>\" + df['ExamplesOfDuties'] + \"<br><br>\" + df['MinimumQualifications'] + \"<br><br>\" + df['SupplementalInfo']"
      ]
    },
    {
      "cell_type": "code",
      "source": [
        "df.head()"
      ],
      "metadata": {
        "colab": {
          "base_uri": "https://localhost:8080/",
          "height": 617
        },
        "id": "lRNW0mlI7H4n",
        "outputId": "f41b0cde-a6c4-4028-b7ea-36288bf61ecb"
      },
      "id": "lRNW0mlI7H4n",
      "execution_count": null,
      "outputs": [
        {
          "output_type": "execute_result",
          "data": {
            "text/plain": [
              "   ClassSpecID  EmployerID                      Class_Title  \\\n",
              "0          793           9               MEDICAL CONSULTANT   \n",
              "1          883           9             NURSE PRACTITIONER I   \n",
              "2          884           9            NURSE PRACTITIONER II   \n",
              "3          885           9           NURSE PRACTITIONER III   \n",
              "4          888           9  NURSE PRACTITIONER I - PER DIEM   \n",
              "\n",
              "                                       Class_Concept  \\\n",
              "0  Under direction, to provide services for vario...   \n",
              "1  <div style=\"text-align: justify;\">Under medica...   \n",
              "2  <div>Under medical supervision of a physician ...   \n",
              "3  <div>Under medical supervision of a physician ...   \n",
              "4  Under medical supervision of a physician and w...   \n",
              "\n",
              "                                    ExamplesOfDuties  \\\n",
              "0  •  Conducts public health clinics, gathers and...   \n",
              "1  <div style=\"text-align: justify;\"><br>• Takes ...   \n",
              "2  <div><br>• Takes patient health histories; per...   \n",
              "3  <div>• Takes patient health histories; perform...   \n",
              "4  &bull; Takes patient health histories; perform...   \n",
              "\n",
              "                               MinimumQualifications SupplementalInfo  \\\n",
              "0  Experience:  One year of post-certification ex...                    \n",
              "1  <div style=\"text-align: justify;\">Experience: ...                    \n",
              "2  <div>Experience: One year of experience as a n...                    \n",
              "3  Experience: Three years of experience as a nur...                    \n",
              "4  Experience: None required.   Knowledge of: Tec...                    \n",
              "\n",
              "                                           BLS_Major  \\\n",
              "0  Healthcare Practitioners and Technical Occupat...   \n",
              "1  Healthcare Practitioners and Technical Occupat...   \n",
              "2  Healthcare Practitioners and Technical Occupat...   \n",
              "3  Healthcare Practitioners and Technical Occupat...   \n",
              "4  Healthcare Practitioners and Technical Occupat...   \n",
              "\n",
              "                                         BLS_Minor            BLS_Broad  \\\n",
              "0  Healthcare Diagnosing or Treating Practitioners  Nurse Practitioners   \n",
              "1  Healthcare Diagnosing or Treating Practitioners  Nurse Practitioners   \n",
              "2  Healthcare Diagnosing or Treating Practitioners  Nurse Practitioners   \n",
              "3  Healthcare Diagnosing or Treating Practitioners  Nurse Practitioners   \n",
              "4  Healthcare Diagnosing or Treating Practitioners  Nurse Practitioners   \n",
              "\n",
              "          BLS_Detailed                                             New_JD  \n",
              "0  Nurse Practitioners  Under direction, to provide services for vario...  \n",
              "1  Nurse Practitioners  <div style=\"text-align: justify;\">Under medica...  \n",
              "2  Nurse Practitioners  <div>Under medical supervision of a physician ...  \n",
              "3  Nurse Practitioners  <div>Under medical supervision of a physician ...  \n",
              "4  Nurse Practitioners  Under medical supervision of a physician and w...  "
            ],
            "text/html": [
              "\n",
              "  <div id=\"df-0b9c49b9-62a0-4ca8-b40d-4c6ce70b2d5d\">\n",
              "    <div class=\"colab-df-container\">\n",
              "      <div>\n",
              "<style scoped>\n",
              "    .dataframe tbody tr th:only-of-type {\n",
              "        vertical-align: middle;\n",
              "    }\n",
              "\n",
              "    .dataframe tbody tr th {\n",
              "        vertical-align: top;\n",
              "    }\n",
              "\n",
              "    .dataframe thead th {\n",
              "        text-align: right;\n",
              "    }\n",
              "</style>\n",
              "<table border=\"1\" class=\"dataframe\">\n",
              "  <thead>\n",
              "    <tr style=\"text-align: right;\">\n",
              "      <th></th>\n",
              "      <th>ClassSpecID</th>\n",
              "      <th>EmployerID</th>\n",
              "      <th>Class_Title</th>\n",
              "      <th>Class_Concept</th>\n",
              "      <th>ExamplesOfDuties</th>\n",
              "      <th>MinimumQualifications</th>\n",
              "      <th>SupplementalInfo</th>\n",
              "      <th>BLS_Major</th>\n",
              "      <th>BLS_Minor</th>\n",
              "      <th>BLS_Broad</th>\n",
              "      <th>BLS_Detailed</th>\n",
              "      <th>New_JD</th>\n",
              "    </tr>\n",
              "  </thead>\n",
              "  <tbody>\n",
              "    <tr>\n",
              "      <th>0</th>\n",
              "      <td>793</td>\n",
              "      <td>9</td>\n",
              "      <td>MEDICAL CONSULTANT</td>\n",
              "      <td>Under direction, to provide services for vario...</td>\n",
              "      <td>•  Conducts public health clinics, gathers and...</td>\n",
              "      <td>Experience:  One year of post-certification ex...</td>\n",
              "      <td></td>\n",
              "      <td>Healthcare Practitioners and Technical Occupat...</td>\n",
              "      <td>Healthcare Diagnosing or Treating Practitioners</td>\n",
              "      <td>Nurse Practitioners</td>\n",
              "      <td>Nurse Practitioners</td>\n",
              "      <td>Under direction, to provide services for vario...</td>\n",
              "    </tr>\n",
              "    <tr>\n",
              "      <th>1</th>\n",
              "      <td>883</td>\n",
              "      <td>9</td>\n",
              "      <td>NURSE PRACTITIONER I</td>\n",
              "      <td>&lt;div style=\"text-align: justify;\"&gt;Under medica...</td>\n",
              "      <td>&lt;div style=\"text-align: justify;\"&gt;&lt;br&gt;• Takes ...</td>\n",
              "      <td>&lt;div style=\"text-align: justify;\"&gt;Experience: ...</td>\n",
              "      <td></td>\n",
              "      <td>Healthcare Practitioners and Technical Occupat...</td>\n",
              "      <td>Healthcare Diagnosing or Treating Practitioners</td>\n",
              "      <td>Nurse Practitioners</td>\n",
              "      <td>Nurse Practitioners</td>\n",
              "      <td>&lt;div style=\"text-align: justify;\"&gt;Under medica...</td>\n",
              "    </tr>\n",
              "    <tr>\n",
              "      <th>2</th>\n",
              "      <td>884</td>\n",
              "      <td>9</td>\n",
              "      <td>NURSE PRACTITIONER II</td>\n",
              "      <td>&lt;div&gt;Under medical supervision of a physician ...</td>\n",
              "      <td>&lt;div&gt;&lt;br&gt;• Takes patient health histories; per...</td>\n",
              "      <td>&lt;div&gt;Experience: One year of experience as a n...</td>\n",
              "      <td></td>\n",
              "      <td>Healthcare Practitioners and Technical Occupat...</td>\n",
              "      <td>Healthcare Diagnosing or Treating Practitioners</td>\n",
              "      <td>Nurse Practitioners</td>\n",
              "      <td>Nurse Practitioners</td>\n",
              "      <td>&lt;div&gt;Under medical supervision of a physician ...</td>\n",
              "    </tr>\n",
              "    <tr>\n",
              "      <th>3</th>\n",
              "      <td>885</td>\n",
              "      <td>9</td>\n",
              "      <td>NURSE PRACTITIONER III</td>\n",
              "      <td>&lt;div&gt;Under medical supervision of a physician ...</td>\n",
              "      <td>&lt;div&gt;• Takes patient health histories; perform...</td>\n",
              "      <td>Experience: Three years of experience as a nur...</td>\n",
              "      <td></td>\n",
              "      <td>Healthcare Practitioners and Technical Occupat...</td>\n",
              "      <td>Healthcare Diagnosing or Treating Practitioners</td>\n",
              "      <td>Nurse Practitioners</td>\n",
              "      <td>Nurse Practitioners</td>\n",
              "      <td>&lt;div&gt;Under medical supervision of a physician ...</td>\n",
              "    </tr>\n",
              "    <tr>\n",
              "      <th>4</th>\n",
              "      <td>888</td>\n",
              "      <td>9</td>\n",
              "      <td>NURSE PRACTITIONER I - PER DIEM</td>\n",
              "      <td>Under medical supervision of a physician and w...</td>\n",
              "      <td>&amp;bull; Takes patient health histories; perform...</td>\n",
              "      <td>Experience: None required.   Knowledge of: Tec...</td>\n",
              "      <td></td>\n",
              "      <td>Healthcare Practitioners and Technical Occupat...</td>\n",
              "      <td>Healthcare Diagnosing or Treating Practitioners</td>\n",
              "      <td>Nurse Practitioners</td>\n",
              "      <td>Nurse Practitioners</td>\n",
              "      <td>Under medical supervision of a physician and w...</td>\n",
              "    </tr>\n",
              "  </tbody>\n",
              "</table>\n",
              "</div>\n",
              "      <button class=\"colab-df-convert\" onclick=\"convertToInteractive('df-0b9c49b9-62a0-4ca8-b40d-4c6ce70b2d5d')\"\n",
              "              title=\"Convert this dataframe to an interactive table.\"\n",
              "              style=\"display:none;\">\n",
              "        \n",
              "  <svg xmlns=\"http://www.w3.org/2000/svg\" height=\"24px\"viewBox=\"0 0 24 24\"\n",
              "       width=\"24px\">\n",
              "    <path d=\"M0 0h24v24H0V0z\" fill=\"none\"/>\n",
              "    <path d=\"M18.56 5.44l.94 2.06.94-2.06 2.06-.94-2.06-.94-.94-2.06-.94 2.06-2.06.94zm-11 1L8.5 8.5l.94-2.06 2.06-.94-2.06-.94L8.5 2.5l-.94 2.06-2.06.94zm10 10l.94 2.06.94-2.06 2.06-.94-2.06-.94-.94-2.06-.94 2.06-2.06.94z\"/><path d=\"M17.41 7.96l-1.37-1.37c-.4-.4-.92-.59-1.43-.59-.52 0-1.04.2-1.43.59L10.3 9.45l-7.72 7.72c-.78.78-.78 2.05 0 2.83L4 21.41c.39.39.9.59 1.41.59.51 0 1.02-.2 1.41-.59l7.78-7.78 2.81-2.81c.8-.78.8-2.07 0-2.86zM5.41 20L4 18.59l7.72-7.72 1.47 1.35L5.41 20z\"/>\n",
              "  </svg>\n",
              "      </button>\n",
              "      \n",
              "  <style>\n",
              "    .colab-df-container {\n",
              "      display:flex;\n",
              "      flex-wrap:wrap;\n",
              "      gap: 12px;\n",
              "    }\n",
              "\n",
              "    .colab-df-convert {\n",
              "      background-color: #E8F0FE;\n",
              "      border: none;\n",
              "      border-radius: 50%;\n",
              "      cursor: pointer;\n",
              "      display: none;\n",
              "      fill: #1967D2;\n",
              "      height: 32px;\n",
              "      padding: 0 0 0 0;\n",
              "      width: 32px;\n",
              "    }\n",
              "\n",
              "    .colab-df-convert:hover {\n",
              "      background-color: #E2EBFA;\n",
              "      box-shadow: 0px 1px 2px rgba(60, 64, 67, 0.3), 0px 1px 3px 1px rgba(60, 64, 67, 0.15);\n",
              "      fill: #174EA6;\n",
              "    }\n",
              "\n",
              "    [theme=dark] .colab-df-convert {\n",
              "      background-color: #3B4455;\n",
              "      fill: #D2E3FC;\n",
              "    }\n",
              "\n",
              "    [theme=dark] .colab-df-convert:hover {\n",
              "      background-color: #434B5C;\n",
              "      box-shadow: 0px 1px 3px 1px rgba(0, 0, 0, 0.15);\n",
              "      filter: drop-shadow(0px 1px 2px rgba(0, 0, 0, 0.3));\n",
              "      fill: #FFFFFF;\n",
              "    }\n",
              "  </style>\n",
              "\n",
              "      <script>\n",
              "        const buttonEl =\n",
              "          document.querySelector('#df-0b9c49b9-62a0-4ca8-b40d-4c6ce70b2d5d button.colab-df-convert');\n",
              "        buttonEl.style.display =\n",
              "          google.colab.kernel.accessAllowed ? 'block' : 'none';\n",
              "\n",
              "        async function convertToInteractive(key) {\n",
              "          const element = document.querySelector('#df-0b9c49b9-62a0-4ca8-b40d-4c6ce70b2d5d');\n",
              "          const dataTable =\n",
              "            await google.colab.kernel.invokeFunction('convertToInteractive',\n",
              "                                                     [key], {});\n",
              "          if (!dataTable) return;\n",
              "\n",
              "          const docLinkHtml = 'Like what you see? Visit the ' +\n",
              "            '<a target=\"_blank\" href=https://colab.research.google.com/notebooks/data_table.ipynb>data table notebook</a>'\n",
              "            + ' to learn more about interactive tables.';\n",
              "          element.innerHTML = '';\n",
              "          dataTable['output_type'] = 'display_data';\n",
              "          await google.colab.output.renderOutput(dataTable, element);\n",
              "          const docLink = document.createElement('div');\n",
              "          docLink.innerHTML = docLinkHtml;\n",
              "          element.appendChild(docLink);\n",
              "        }\n",
              "      </script>\n",
              "    </div>\n",
              "  </div>\n",
              "  "
            ]
          },
          "metadata": {},
          "execution_count": 86
        }
      ]
    },
    {
      "cell_type": "markdown",
      "source": [
        "## Code to generate HTML Table"
      ],
      "metadata": {
        "id": "Ztl-979adBr_"
      },
      "id": "Ztl-979adBr_"
    },
    {
      "cell_type": "code",
      "source": [
        "# def pair_html(ClassSpecID1, ClassSpecID2):\n",
        "#   html_text = \"<table> <tr> <th>Pair ID</th> <th>Class Title-1</th> <th>Class Title-2</th> <th>Class Title Text Sim Score</th> <th>Job Desc-1</th> <th>Job Desc-2</th> <th>USE Sim Score</th> <th>SBERT Sim Score</th> </tr> <tr> <td>\"+ str(str(ClassSpecID1)+\"-\"+ str(ClassSpecID2)) +\"</td> <td>\"+ str(df[df['ClassSpecID']==ClassSpecID1]['Class_Title'][0]) +\"</td> <td>\"+ str(df[df['ClassSpecID']==ClassSpecID2]['Class_Title'][1]) + \"</td> <td>  </td> <td>\"+ str(df[df['ClassSpecID']==ClassSpecID1]['New_JD'][0]) +\"</td> <td>\"+ str(df[df['ClassSpecID']==ClassSpecID2]['New_JD'][1]) + \" </td> <td>  </td> <td>  </td> </tr> </table>\"\n",
        "#   with open(str(ClassSpecID1)+\"-\"+ str(ClassSpecID2) + \".html\", mode=\"w\") as f:\n",
        "#     f.write(html_text)"
      ],
      "metadata": {
        "id": "npp2sQEl4ogf"
      },
      "id": "npp2sQEl4ogf",
      "execution_count": null,
      "outputs": []
    },
    {
      "cell_type": "code",
      "source": [
        "def pair_html(ClassSpecID1, ClassSpecID2):\n",
        "  html_text = '<!doctype html> <html lang=\"en\"> <head> <title>GT UI</title> <meta charset=\"utf-8\"> <meta name=\"viewport\" content=\"width=device-width, initial-scale=1, shrink-to-fit=no\">'+\"<link href='https://fonts.googleapis.com/css?family=Roboto:400,100,300,700' rel='stylesheet' type='text/css'> \" + '<link rel=\"stylesheet\" href=\"https://stackpath.bootstrapcdn.com/font-awesome/4.7.0/css/font-awesome.min.css\"> <link rel=\"stylesheet\" href=\"css\\style.css\" > </head> <style> table, th, td { border: 1px solid black; border-collapse: collapse; }, td:nth-child(even), th:nth-child(even) {background-color: #D6EEEE;} </style> <body> <section class=\"ftco-section\"> <div class=\"container\"> <div class=\"row justify-content-center\"> <div class=\"col-md-6 text-center mb-5\"> <h1 class=\"heading-section\">GT UI</h1> </div> </div> <div class=\"row\"> <div class=\"col-md-12\"> <! <h4 class=\"text-center mb-4\"> </h4> <div class=\"table-wrap\"> <table class=\"table\" style=\"height: 275px; width: 100%\" border=1 frame=hsides rules=rows> <thead class=\"thead-primary\"> <tr style=\"width: 100%; vertical-align:top\"> <th>Pair ID</th> <th>Class Title-1</th> <th>Class Title-2</th> <th>Class Title Text Sim Score</th> <th>Job Desc-1</th> <th>Job Desc-2</th> <th>USE Sim Score</th> <th>SBERT Sim Score</th> </tr> </thead> <tbody> <tr style=\"vertical-align:top\"> <td scope=\"row\" class=\"scope\" >' + str(str(ClassSpecID1)+\"-\"+ str(ClassSpecID2)) + '</td> <td>' + str(df[df[\"ClassSpecID\"]==ClassSpecID1][\"Class_Title\"][0]) + '</td> <td>' + str(df[df[\"ClassSpecID\"]==ClassSpecID2][\"Class_Title\"][1]) + '</td> <td>  </td> <td>'+ str(df[df[\"ClassSpecID\"]==ClassSpecID1][\"New_JD\"][0]) + '</td> <td>' + str(df[df[\"ClassSpecID\"]==ClassSpecID2][\"New_JD\"][1]) + '</td> <td>  </td> <td>  </td> </tr> </tbody> </table> </div> </div> </div> </div> </section> <script src=\"js/jquery.min.js\"></script> <script src=\"js/popper.js\"></script> <script src=\"js/bootstrap.min.js\"></script> <script src=\"js/main.js\"></script> </body> </html>'\n",
        "  with open(str(ClassSpecID1)+\"-\"+ str(ClassSpecID2) + \".html\", mode=\"w\") as f:\n",
        "    f.write(html_text)"
      ],
      "metadata": {
        "id": "RmEgrlbkxX4i"
      },
      "id": "RmEgrlbkxX4i",
      "execution_count": null,
      "outputs": []
    },
    {
      "cell_type": "code",
      "source": [
        "pair_html(793, 883)"
      ],
      "metadata": {
        "id": "8lUpZYM77EdG"
      },
      "id": "8lUpZYM77EdG",
      "execution_count": null,
      "outputs": []
    },
    {
      "cell_type": "code",
      "source": [
        "ClassSpecID2 = 883\n",
        "# df[df['ClassSpecID']==ClassSpecID1]['Class_Title'][0]\n",
        "df[df['ClassSpecID']==ClassSpecID2]['New_JD']"
      ],
      "metadata": {
        "id": "9MNzAuzZ-uKF",
        "colab": {
          "base_uri": "https://localhost:8080/"
        },
        "outputId": "7d239167-25ea-4cda-b8c7-48e755038bd9"
      },
      "id": "9MNzAuzZ-uKF",
      "execution_count": null,
      "outputs": [
        {
          "output_type": "execute_result",
          "data": {
            "text/plain": [
              "1    <div style=\"text-align: justify;\">Under medica...\n",
              "Name: New_JD, dtype: object"
            ]
          },
          "metadata": {},
          "execution_count": 37
        }
      ]
    },
    {
      "cell_type": "code",
      "source": [
        ""
      ],
      "metadata": {
        "id": "hMWXFaXso3lw"
      },
      "id": "hMWXFaXso3lw",
      "execution_count": null,
      "outputs": []
    }
  ],
  "metadata": {
    "kernelspec": {
      "display_name": "Python 3 (ipykernel)",
      "language": "python",
      "name": "python3"
    },
    "language_info": {
      "codemirror_mode": {
        "name": "ipython",
        "version": 3
      },
      "file_extension": ".py",
      "mimetype": "text/x-python",
      "name": "python",
      "nbconvert_exporter": "python",
      "pygments_lexer": "ipython3",
      "version": "3.9.12"
    },
    "colab": {
      "name": "Generate HTML_Table.ipynb",
      "provenance": [],
      "collapsed_sections": []
    }
  },
  "nbformat": 4,
  "nbformat_minor": 5
}